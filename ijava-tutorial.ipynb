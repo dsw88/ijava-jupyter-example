{
 "cells": [
  {
   "cell_type": "markdown",
   "metadata": {},
   "source": [
    "# IJava Jupyter Tutorial\n",
    "This notebook contains a tutorial for using Java inside Jupyter notebooks. \n",
    "\n",
    "Jupyter is a great tool for a variety of situations. It's a natural tool for instances when you want to mix code and text together. In this notebook, for example, I'm writing a tutorial that shows how to use Java inside of Jupyter, which includes written instructions as well as example executable code."
   ]
  },
  {
   "cell_type": "markdown",
   "metadata": {},
   "source": [
    "## Installation\n",
    "This section contains information about installing the required tools to use Java Jupyter notebooks.\n",
    "\n",
    "#### Install Anaconda\n",
    "To install the tools required to use Java Jupyter notebooks, I recommend using the [Anaconda](https://www.anaconda.com/) distribution. Anaconda is a cross-platform Python environment for data science. Its main advantage is that it works great on Windows out-of-the-box and comes with a variety of data science tools pre-installed. You can download your [platform's installer file](https://www.anaconda.com/distribution/) and install it like any other application.\n",
    "\n",
    "Once you have installed Anaconda, you can open up the *Anaconda Navigator* application to see the main environment:\n",
    "\n",
    "<img src=\"images/anaconda-navigator.png\" alt=\"Navigator Main Screen\" style=\"width: 800px;\"/>\n",
    "\n",
    "From this screen, you can launch the *JupyterLab* application. This will open up a browser-based application that lets you create, edit, and run Jupyter notebooks. Out-of-the-box you can create Python notebooks, but you have to install some more tools before you can run Java notebooks.\n",
    "\n",
    "#### Install Java 9\n",
    "Next, you need to install the required version of Java, which is the [Java 9 JDK](https://www.oracle.com/technetwork/java/javase/downloads/java-archive-javase9-3934878.html) or higher. You should be able to install Java 9 alongside another JDK such as Java 8.\n",
    "\n",
    "**NOTE**: Make sure to install the full JDK, not just the JRE. Java Jupyter notebooks will not work without having the full JDK installed.\n",
    "\n",
    "#### Install IJava\n",
    "[IJava](https://github.com/SpencerPark/IJava) is an open-source tool that integrates Java 9's JShell tool with Jupyter's kernel system, allowing you to use Java inside a Jupyter notebook.\n",
    "\n",
    "The README file in that GitHub repository contains the main instructions for using the tool. See the [installation section](https://github.com/SpencerPark/IJava#install-pre-built-binary) of that document to see how to download and install the tool.\n",
    "\n",
    "The main gist of the installation is that once you have downloaded the pre-built release ZIP file, you should run this command from the unzipped directory:\n",
    "```\n",
    "python3 install.py --sys-prefix\n",
    "```\n",
    "\n",
    "That command will install IJava as a Jupyter kernel\n",
    "\n",
    "#### Optional: Configure IJava to use Java 9\n",
    "This step is not necessary if Java 9 is the only version of Java on your machine. If, however, you have Java 8 installed concurrently, then you will want to tell IJava which version to pick.\n",
    "\n",
    "This [GitHub issue](https://github.com/SpencerPark/IJava/issues/12) explains the process for telling IJava to use Java 9.\n",
    "\n",
    "## Running Java Code\n",
    "Now that you have IJava installed, you can run some Java code:"
   ]
  },
  {
   "cell_type": "code",
   "execution_count": 1,
   "metadata": {},
   "outputs": [
    {
     "name": "stdout",
     "output_type": "stream",
     "text": [
      "Hello, world!\n"
     ]
    }
   ],
   "source": [
    "System.out.println(\"Hello, world!\");"
   ]
  },
  {
   "cell_type": "markdown",
   "metadata": {},
   "source": [
    "Notice that you can execute expressions at the top-level without being explicitly inside a class method. This is probably a little odd if you haven't used the JShell REPL before, but fits in very nicely with Jupyter notebooks.\n",
    "\n",
    "You can of course use JVM classes like you normally would:"
   ]
  },
  {
   "cell_type": "code",
   "execution_count": 2,
   "metadata": {},
   "outputs": [
    {
     "name": "stdout",
     "output_type": "stream",
     "text": [
      "[David]\n"
     ]
    }
   ],
   "source": [
    "List<String> names = new ArrayList<String>();\n",
    "names.add(\"David\");\n",
    "System.out.println(names);"
   ]
  },
  {
   "cell_type": "markdown",
   "metadata": {},
   "source": [
    "Above you used *System.out.println()* to print what you wanted, but in Jupyter the last line often auto-prints to the console, allowing you to just do this:"
   ]
  },
  {
   "cell_type": "code",
   "execution_count": 3,
   "metadata": {},
   "outputs": [
    {
     "data": {
      "text/plain": [
       "[David]"
      ]
     },
     "execution_count": 3,
     "metadata": {},
     "output_type": "execute_result"
    }
   ],
   "source": [
    "names"
   ]
  },
  {
   "cell_type": "markdown",
   "metadata": {},
   "source": [
    "As you would hope, you can also define your own classes just like you normally would:"
   ]
  },
  {
   "cell_type": "code",
   "execution_count": 9,
   "metadata": {},
   "outputs": [
    {
     "data": {
      "text/plain": [
       "SuperSimpleClass(someString=David, someInt=100)"
      ]
     },
     "execution_count": 9,
     "metadata": {},
     "output_type": "execute_result"
    }
   ],
   "source": [
    "public class SuperSimpleClass {\n",
    "    public String someString;\n",
    "    public int someInt;\n",
    "    \n",
    "    public String toString() {\n",
    "        return String.format(\"SuperSimpleClass(someString=%s, someInt=%s)\", someString, someInt);\n",
    "    }\n",
    "}\n",
    "\n",
    "SuperSimpleClass testObj = new SuperSimpleClass();\n",
    "testObj.someString = \"David\";\n",
    "testObj.someInt = 100;\n",
    "testObj"
   ]
  },
  {
   "cell_type": "markdown",
   "metadata": {},
   "source": [
    "## Using Maven Dependencies\n",
    "It would also be great if you could import third-party dependencies, and sure enough you can:"
   ]
  },
  {
   "cell_type": "code",
   "execution_count": 13,
   "metadata": {},
   "outputs": [],
   "source": [
    "%maven com.fasterxml.jackson.core:jackson-core:2.9.8\n",
    "%maven com.fasterxml.jackson.core:jackson-databind:2.9.8\n",
    "%maven com.fasterxml.jackson.core:jackson-annotations:2.9.8"
   ]
  },
  {
   "cell_type": "markdown",
   "metadata": {},
   "source": [
    "The above Maven statements take the Maven artifact coordinates (group ID, artifact ID, and version) and import those JARs to make them available for use in this notebook:"
   ]
  },
  {
   "cell_type": "code",
   "execution_count": 14,
   "metadata": {},
   "outputs": [
    {
     "data": {
      "text/plain": [
       "{\"someString\":\"David\",\"someInt\":100}"
      ]
     },
     "execution_count": 14,
     "metadata": {},
     "output_type": "execute_result"
    }
   ],
   "source": [
    "import com.fasterxml.jackson.databind.ObjectMapper;\n",
    "\n",
    "ObjectMapper mapper = new ObjectMapper();\n",
    "mapper.writeValueAsString(testObj);"
   ]
  },
  {
   "cell_type": "markdown",
   "metadata": {},
   "source": [
    "## Creating Charts\n",
    "A core part of many Jupyter notebooks is using visual charts to convey information. You can do use various charting libraries to do this in a Java notebook:"
   ]
  },
  {
   "cell_type": "code",
   "execution_count": 15,
   "metadata": {},
   "outputs": [
    {
     "data": {
      "image/png": "[encoded data removed]",
      "text/plain": [
       "BufferedImage@b820521: type = 1 DirectColorModel: rmask=ff0000 gmask=ff00 bmask=ff amask=0 IntegerInterleavedRaster: width = 600 height = 400 #Bands = 3 xOff = 0 yOff = 0 dataOffset[0] 0"
      ]
     },
     "execution_count": 15,
     "metadata": {},
     "output_type": "execute_result"
    }
   ],
   "source": [
    "%maven org.knowm.xchart:xchart:3.5.2\n",
    "    \n",
    "import org.knowm.xchart.*;\n",
    "\n",
    "double[] xData = new double[] {0.0, 1.0, 2.0};\n",
    "double[] yData = new double[] {2.0, 1.0, 0.0};\n",
    "\n",
    "XYChart chart = QuickChart.getChart(\"Sample chart\", \"X\", \"Y\", \"y(x)\", xData, yData);\n",
    "\n",
    "BitmapEncoder.getBufferedImage(chart);"
   ]
  },
  {
   "cell_type": "markdown",
   "metadata": {},
   "source": [
    "## Sharing Notebooks\n",
    "When you run a Jupyter notebook, each cell that runs saves its interactive output in the notebook. This means you can run a notebook and the results of your execution will be saved for future viewing. Anyone else who opens up the notebook will see the results of your execution. This is a nice behavior for when you want to show someone the results of an experiment you ran.\n",
    "\n",
    "GitHub will automatically display Jupyter notebooks in their UI, so an easy way to share notebooks is by uploading them to GitHub and sending someone the link to your notebook."
   ]
  },
  {
   "cell_type": "code",
   "execution_count": null,
   "metadata": {},
   "outputs": [],
   "source": []
  }
 ],
 "metadata": {
  "kernelspec": {
   "display_name": "Java",
   "language": "java",
   "name": "java"
  },
  "language_info": {
   "codemirror_mode": "java",
   "file_extension": ".java",
   "mimetype": "text/x-java-source",
   "name": "Java",
   "pygments_lexer": "java",
   "version": "9.0.1+11"
  }
 },
 "nbformat": 4,
 "nbformat_minor": 2
}
